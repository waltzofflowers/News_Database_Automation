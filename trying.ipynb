{
 "cells": [
  {
   "cell_type": "code",
   "execution_count": 1,
   "metadata": {},
   "outputs": [
    {
     "name": "stdout",
     "output_type": "stream",
     "text": [
      "Requirement already satisfied: newsapi-python in c:\\users\\cihat\\appdata\\local\\programs\\python\\python311\\lib\\site-packages (0.2.7)\n",
      "Requirement already satisfied: requests<3.0.0 in c:\\users\\cihat\\appdata\\local\\programs\\python\\python311\\lib\\site-packages (from newsapi-python) (2.32.3)\n",
      "Requirement already satisfied: charset-normalizer<4,>=2 in c:\\users\\cihat\\appdata\\local\\programs\\python\\python311\\lib\\site-packages (from requests<3.0.0->newsapi-python) (3.4.0)\n",
      "Requirement already satisfied: idna<4,>=2.5 in c:\\users\\cihat\\appdata\\local\\programs\\python\\python311\\lib\\site-packages (from requests<3.0.0->newsapi-python) (3.10)\n",
      "Requirement already satisfied: urllib3<3,>=1.21.1 in c:\\users\\cihat\\appdata\\local\\programs\\python\\python311\\lib\\site-packages (from requests<3.0.0->newsapi-python) (2.2.3)\n",
      "Requirement already satisfied: certifi>=2017.4.17 in c:\\users\\cihat\\appdata\\local\\programs\\python\\python311\\lib\\site-packages (from requests<3.0.0->newsapi-python) (2024.8.30)\n",
      "Note: you may need to restart the kernel to use updated packages.\n"
     ]
    },
    {
     "name": "stderr",
     "output_type": "stream",
     "text": [
      "\n",
      "[notice] A new release of pip is available: 24.3.1 -> 25.0\n",
      "[notice] To update, run: python.exe -m pip install --upgrade pip\n"
     ]
    }
   ],
   "source": [
    "%pip install newsapi-python"
   ]
  },
  {
   "cell_type": "code",
   "execution_count": 1,
   "metadata": {},
   "outputs": [],
   "source": [
    "from newsapi import NewsApiClient\n",
    "import pandas as pd\n",
    "from sqlalchemy import create_engine, types, text\n",
    "import datetime\n",
    "from datetime import datetime\n",
    "#import pyodbc"
   ]
  },
  {
   "cell_type": "code",
   "execution_count": 2,
   "metadata": {},
   "outputs": [],
   "source": [
    "# Establish a connection to the SQL Server database\n",
    "server = 'server'  # Replace 'your_server_name' with your SQL Server instance name\n",
    "database = 'database'  # Replace 'your_database_name' with your database name\n",
    "username = 'username'  # Replace 'your_username' with your SQL Server username\n",
    "password = 'password'  # Replace 'your_password' with your SQL Server password\n",
    "driver = 'driver'  # Replace with your SQL Server driver (e.g., 'ODBC+Driver+17+for+SQL+Server')\n",
    "port = 1433 # postgresql common port change it for yourselves"
   ]
  },
  {
   "cell_type": "code",
   "execution_count": 3,
   "metadata": {},
   "outputs": [],
   "source": [
    "conn_str = f'mssql+pyodbc://{username}:{password}@{server}:{port}/{database}?driver={driver}'\n",
    "engine = create_engine(conn_str, isolation_level='AUTOCOMMIT')"
   ]
  },
  {
   "cell_type": "code",
   "execution_count": 4,
   "metadata": {},
   "outputs": [],
   "source": [
    "#conn = pyodbc.connect(conn_str)\n",
    "##cursor = conn.cursor()"
   ]
  },
  {
   "cell_type": "code",
   "execution_count": 4,
   "metadata": {},
   "outputs": [],
   "source": [
    "# Init\n",
    "newsapi = NewsApiClient(api_key='bd2b8887d4a84984b5436bd30d7a0a37')"
   ]
  },
  {
   "cell_type": "code",
   "execution_count": 6,
   "metadata": {},
   "outputs": [],
   "source": [
    "#sources = newsapi.get_sources()\n",
    "\n",
    "#df_sources1 = pd.DataFrame(sources['sources'])\n",
    "\n",
    "#df_sources2 = df_sources1[df_sources1['language'] == 'en']\n",
    "\n",
    "#df_ids = df_sources2[['id']].drop_duplicates()\n",
    "\n",
    "#df_ids.to_csv('sources.csv', index=False)"
   ]
  },
  {
   "cell_type": "code",
   "execution_count": 5,
   "metadata": {},
   "outputs": [],
   "source": [
    "sources = newsapi.get_sources()\n",
    "\n",
    "df_sources = pd.DataFrame(sources['sources'])\n",
    "\n",
    "#a = df_sources['category'].drop_duplicates()\n",
    "\n",
    "#technology = df_sources[df_sources['category'] == 'business']\n",
    "\n",
    "#technology"
   ]
  },
  {
   "cell_type": "code",
   "execution_count": 9,
   "metadata": {},
   "outputs": [],
   "source": [
    "q_list = ['economy', 'business', 'money', 'tech', 'science']\n",
    "\n",
    "dataframes = {}\n",
    "\n",
    "listt = []\n",
    "\n",
    "#interest = ['']\n",
    "\n",
    "for i in range(len(q_list)): \n",
    "    all_articles_from_sources = newsapi.get_everything( \n",
    "        q=q_list[i], \n",
    "        sources='bbc-news,bloomberg,the-verge,abc-news,google-news,business-insider,cnn,the-wall-street-journal,the-washington-times', \n",
    "        language='en', \n",
    "        from_param='2025-01-02', \n",
    "        to='2025-02-03', \n",
    "        sort_by='relevancy' )\n",
    "\n",
    "    articles = all_articles_from_sources['articles']\n",
    "    dataframes[q_list[i]] = pd.DataFrame(articles)\n",
    "    listt.append(dataframes[q_list[i]])\n",
    "\n",
    "df_total = pd.concat(listt, axis=0)\n",
    "#df_total.to_csv('last_one3.csv', index=False)"
   ]
  },
  {
   "cell_type": "code",
   "execution_count": null,
   "metadata": {},
   "outputs": [],
   "source": [
    "#df_total.sort_values('publishedAt', ascending=False, inplace=True)"
   ]
  },
  {
   "cell_type": "code",
   "execution_count": null,
   "metadata": {},
   "outputs": [],
   "source": [
    "#df_total"
   ]
  },
  {
   "cell_type": "code",
   "execution_count": 8,
   "metadata": {},
   "outputs": [],
   "source": [
    "interests = ['Russia', 'Ukraine', 'Chinese', 'America', 'Erdogan', 'Erdoğan', 'Turkey', 'inflation', 'economy', 'NASA', 'Syria', 'Donald Trump', 'AWS', 'Google']\n",
    "\n",
    "df_total['interest'] = df_total['description'].apply(lambda x: next((i for i in interests if i in x), 'Others'))"
   ]
  },
  {
   "cell_type": "code",
   "execution_count": 9,
   "metadata": {},
   "outputs": [],
   "source": [
    "df_total['publishedAt'] = pd.to_datetime(df_total['publishedAt']).dt.strftime('%Y-%m-%d %H:%M:%S')"
   ]
  },
  {
   "cell_type": "code",
   "execution_count": 28,
   "metadata": {},
   "outputs": [],
   "source": [
    "#df_total['source'] = df_total['source'].astype(str)"
   ]
  },
  {
   "cell_type": "code",
   "execution_count": 10,
   "metadata": {},
   "outputs": [],
   "source": [
    "df_total['source_name'] = [i.get('name') if isinstance(i, dict) else None for i in df_total['source']]"
   ]
  },
  {
   "cell_type": "code",
   "execution_count": null,
   "metadata": {},
   "outputs": [],
   "source": [
    "#df_total['publishedAt'] = pd.to_datetime(df_total['publishedAt'])\n",
    "\n",
    "## IN SQL IF YOU WANNA FORMAT THIS YOU CAN USE THIS BELOW. THAT UGLY FORMATTING IS SMHTN.\n",
    "\n",
    "# SELECT source, author, title, description, url, urlToImage, FORMAT(publishedAt, 'yyyy-MM-dd') AS publishedAt, content, interest, source_name FROM [dbo].[News]\n",
    "# ORDER BY publishedAt;"
   ]
  },
  {
   "cell_type": "code",
   "execution_count": 20,
   "metadata": {},
   "outputs": [],
   "source": [
    "df_total['source'] = df_total['source'].astype(str)"
   ]
  },
  {
   "cell_type": "code",
   "execution_count": null,
   "metadata": {},
   "outputs": [],
   "source": [
    "df_total"
   ]
  },
  {
   "cell_type": "code",
   "execution_count": 14,
   "metadata": {},
   "outputs": [],
   "source": [
    "# df_total['source_id'] = df_total['source'].apply(lambda x: x.get('id') if isinstance(x, dict) else None)\n",
    "# df_total['source_name'] = df_total['source'].apply(lambda x: x.get('name') if isinstance(x, dict) else None)\n",
    "# df_total = df_total.drop(columns=['source'])"
   ]
  },
  {
   "cell_type": "code",
   "execution_count": null,
   "metadata": {},
   "outputs": [],
   "source": [
    "# asdd = df_total[df_total['interest'] != 'Null']\n",
    "\n",
    "# asdd"
   ]
  },
  {
   "cell_type": "code",
   "execution_count": 24,
   "metadata": {},
   "outputs": [
    {
     "name": "stdout",
     "output_type": "stream",
     "text": [
      "Database already exists.\n"
     ]
    }
   ],
   "source": [
    "# IF YOU WANNA CREATE A NEW DATABASE THAT NOT EXIST\n",
    "\n",
    "newdatabase = 'News_Database'\n",
    "\n",
    "\n",
    "check_query = f\"SELECT database_id FROM sys.databases WHERE name = '{newdatabase}'\"\n",
    "\n",
    "create_query = f\"CREATE DATABASE {newdatabase}\"\n",
    "\n",
    "with engine.connect() as connection:\n",
    "    result = connection.execute(text(check_query))\n",
    "    if result.fetchone() is None:\n",
    "        connection.execute(text(create_query))\n",
    "    else:\n",
    "        print(\"Database already exists.\")"
   ]
  },
  {
   "cell_type": "code",
   "execution_count": 25,
   "metadata": {},
   "outputs": [
    {
     "name": "stdout",
     "output_type": "stream",
     "text": [
      "\n",
      "CREATE TABLE [News] (\n",
      "\tsource VARCHAR(max) NULL, \n",
      "\tauthor VARCHAR(max) NULL, \n",
      "\ttitle VARCHAR(max) NULL, \n",
      "\tdescription VARCHAR(max) NULL, \n",
      "\turl VARCHAR(max) NULL, \n",
      "\t[urlToImage] VARCHAR(max) NULL, \n",
      "\t[publishedAt] DATETIME NULL, \n",
      "\tcontent VARCHAR(max) NULL, \n",
      "\tinterest VARCHAR(max) NULL, \n",
      "\tsource_name VARCHAR(max) NULL\n",
      ")\n",
      "\n",
      "\n"
     ]
    }
   ],
   "source": [
    "print(pd.io.sql.get_schema(df_total, name=\"News\", con=engine))"
   ]
  },
  {
   "cell_type": "code",
   "execution_count": 26,
   "metadata": {},
   "outputs": [
    {
     "data": {
      "text/plain": [
       "120"
      ]
     },
     "execution_count": 26,
     "metadata": {},
     "output_type": "execute_result"
    }
   ],
   "source": [
    "df_total.to_sql(name='News', con=engine, if_exists='replace')"
   ]
  }
 ],
 "metadata": {
  "kernelspec": {
   "display_name": "Python 3",
   "language": "python",
   "name": "python3"
  },
  "language_info": {
   "codemirror_mode": {
    "name": "ipython",
    "version": 3
   },
   "file_extension": ".py",
   "mimetype": "text/x-python",
   "name": "python",
   "nbconvert_exporter": "python",
   "pygments_lexer": "ipython3",
   "version": "3.11.5"
  }
 },
 "nbformat": 4,
 "nbformat_minor": 2
}
